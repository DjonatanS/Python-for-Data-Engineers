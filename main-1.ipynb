{
 "cells": [
  {
   "cell_type": "markdown",
   "metadata": {},
   "source": [
    "# 1 - Importing libraries"
   ]
  },
  {
   "cell_type": "code",
   "execution_count": 1,
   "metadata": {},
   "outputs": [],
   "source": [
    "#data processing\n",
    "import pandas as pd\n",
    "import numpy as np\n",
    "\n",
    "#utils\n",
    "import os\n",
    "import sys\n",
    "import time\n",
    "import json\n",
    "import random\n",
    "import warnings\n",
    "import datetime\n",
    "import requests\n",
    "\n",
    "#remove warnings\n",
    "warnings.filterwarnings('ignore')\n",
    "\n",
    "#pandas display options 2 decimal places and show all columns\n",
    "pd.set_option('display.float_format', lambda x: '%.2f' % x)\n",
    "pd.set_option('display.max_columns', None)"
   ]
  },
  {
   "cell_type": "markdown",
   "metadata": {},
   "source": [
    "# 2 - Criação dos dados de exemplo e carga para dataframe padrão do pandas\n"
   ]
  },
  {
   "cell_type": "code",
   "execution_count": 5,
   "metadata": {},
   "outputs": [],
   "source": [
    "\n",
    "# Dados multidimensionais\n",
    "dados = {\n",
    "    \"pessoas\": [\n",
    "        {\n",
    "            \"nome\": \"João\",\n",
    "            \"idade\": 25,\n",
    "            \"endereço\": {\n",
    "                \"rua\": \"Rua A\",\n",
    "                \"cidade\": \"São Paulo\"\n",
    "            }\n",
    "        },\n",
    "        {\n",
    "            \"nome\": \"Maria\",\n",
    "            \"idade\": 30,\n",
    "            \"endereço\": {\n",
    "                \"rua\": \"Rua B\",\n",
    "                \"cidade\": \"Rio de Janeiro\"\n",
    "            }\n",
    "        }\n",
    "    ]\n",
    "}\n",
    "\n",
    "# Converter para JSON\n",
    "json_dados = json.dumps(dados)\n",
    "\n",
    "# Imprimir o JSON\n",
    "print(json_dados)\n"
   ]
  },
  {
   "cell_type": "code",
   "execution_count": 10,
   "metadata": {},
   "outputs": [
    {
     "data": {
      "text/plain": [
       "dict"
      ]
     },
     "execution_count": 10,
     "metadata": {},
     "output_type": "execute_result"
    }
   ],
   "source": [
    "type(dados)"
   ]
  },
  {
   "cell_type": "code",
   "execution_count": 11,
   "metadata": {},
   "outputs": [
    {
     "data": {
      "text/plain": [
       "str"
      ]
     },
     "execution_count": 11,
     "metadata": {},
     "output_type": "execute_result"
    }
   ],
   "source": [
    "type(json_dados)"
   ]
  },
  {
   "cell_type": "code",
   "execution_count": 12,
   "metadata": {},
   "outputs": [
    {
     "data": {
      "text/plain": [
       "dict"
      ]
     },
     "execution_count": 12,
     "metadata": {},
     "output_type": "execute_result"
    }
   ],
   "source": [
    "dados_dict = json.loads(json_dados) #converte json para dict\n",
    "type(dados_dict)\n"
   ]
  },
  {
   "cell_type": "code",
   "execution_count": 10,
   "metadata": {},
   "outputs": [
    {
     "data": {
      "text/html": [
       "<div>\n",
       "<style scoped>\n",
       "    .dataframe tbody tr th:only-of-type {\n",
       "        vertical-align: middle;\n",
       "    }\n",
       "\n",
       "    .dataframe tbody tr th {\n",
       "        vertical-align: top;\n",
       "    }\n",
       "\n",
       "    .dataframe thead th {\n",
       "        text-align: right;\n",
       "    }\n",
       "</style>\n",
       "<table border=\"1\" class=\"dataframe\">\n",
       "  <thead>\n",
       "    <tr style=\"text-align: right;\">\n",
       "      <th></th>\n",
       "      <th>pessoas</th>\n",
       "    </tr>\n",
       "  </thead>\n",
       "  <tbody>\n",
       "    <tr>\n",
       "      <th>0</th>\n",
       "      <td>{'nome': 'João', 'idade': 25, 'endereço': {'ru...</td>\n",
       "    </tr>\n",
       "    <tr>\n",
       "      <th>1</th>\n",
       "      <td>{'nome': 'Maria', 'idade': 30, 'endereço': {'r...</td>\n",
       "    </tr>\n",
       "  </tbody>\n",
       "</table>\n",
       "</div>"
      ],
      "text/plain": [
       "                                             pessoas\n",
       "0  {'nome': 'João', 'idade': 25, 'endereço': {'ru...\n",
       "1  {'nome': 'Maria', 'idade': 30, 'endereço': {'r..."
      ]
     },
     "execution_count": 10,
     "metadata": {},
     "output_type": "execute_result"
    }
   ],
   "source": [
    "dataframe_dict = pd.DataFrame(dados);dataframe_dict"
   ]
  },
  {
   "cell_type": "code",
   "execution_count": 3,
   "metadata": {},
   "outputs": [
    {
     "data": {
      "text/html": [
       "<div>\n",
       "<style scoped>\n",
       "    .dataframe tbody tr th:only-of-type {\n",
       "        vertical-align: middle;\n",
       "    }\n",
       "\n",
       "    .dataframe tbody tr th {\n",
       "        vertical-align: top;\n",
       "    }\n",
       "\n",
       "    .dataframe thead th {\n",
       "        text-align: right;\n",
       "    }\n",
       "</style>\n",
       "<table border=\"1\" class=\"dataframe\">\n",
       "  <thead>\n",
       "    <tr style=\"text-align: right;\">\n",
       "      <th></th>\n",
       "      <th>pessoas</th>\n",
       "    </tr>\n",
       "  </thead>\n",
       "  <tbody>\n",
       "    <tr>\n",
       "      <th>0</th>\n",
       "      <td>{'nome': 'João', 'idade': 25, 'endereço': {'ru...</td>\n",
       "    </tr>\n",
       "    <tr>\n",
       "      <th>1</th>\n",
       "      <td>{'nome': 'Maria', 'idade': 30, 'endereço': {'r...</td>\n",
       "    </tr>\n",
       "  </tbody>\n",
       "</table>\n",
       "</div>"
      ],
      "text/plain": [
       "                                             pessoas\n",
       "0  {'nome': 'João', 'idade': 25, 'endereço': {'ru...\n",
       "1  {'nome': 'Maria', 'idade': 30, 'endereço': {'r..."
      ]
     },
     "execution_count": 3,
     "metadata": {},
     "output_type": "execute_result"
    }
   ],
   "source": [
    "dataframe = pd.read_json(json_dados); dataframe"
   ]
  },
  {
   "cell_type": "markdown",
   "metadata": {},
   "source": [
    "# 3 - Acessando os dados multidiensionais"
   ]
  },
  {
   "cell_type": "code",
   "execution_count": 14,
   "metadata": {},
   "outputs": [
    {
     "data": {
      "text/plain": [
       "'São Paulo'"
      ]
     },
     "execution_count": 14,
     "metadata": {},
     "output_type": "execute_result"
    }
   ],
   "source": [
    "dados['pessoas'][0]['nome']\n",
    "dados['pessoas'][0]['idade']\n",
    "dados['pessoas'][0]['endereço']['rua']\n",
    "dados['pessoas'][0]['endereço']['cidade']"
   ]
  },
  {
   "cell_type": "markdown",
   "metadata": {},
   "source": [
    "# 4 - Estruturando o DataFrame"
   ]
  },
  {
   "cell_type": "code",
   "execution_count": 4,
   "metadata": {},
   "outputs": [],
   "source": [
    "dataframe_list_comprehension = pd.DataFrame()\n",
    "dataframe_list_comprehension['nome'] = [x['nome'] for x in dados['pessoas']]\n",
    "dataframe_list_comprehension['idade'] = [x['idade'] for x in dados['pessoas']]\n",
    "dataframe_list_comprehension['rua'] = [x['endereço']['rua'] for x in dados['pessoas']]\n",
    "dataframe_list_comprehension['cidade'] = [x['endereço']['cidade'] for x in dados['pessoas']]\n",
    "dataframe_list_comprehension.to_json('./data/catalogs/json/model_people_v1.json', orient='records')"
   ]
  },
  {
   "cell_type": "code",
   "execution_count": 18,
   "metadata": {},
   "outputs": [
    {
     "data": {
      "text/html": [
       "<div>\n",
       "<style scoped>\n",
       "    .dataframe tbody tr th:only-of-type {\n",
       "        vertical-align: middle;\n",
       "    }\n",
       "\n",
       "    .dataframe tbody tr th {\n",
       "        vertical-align: top;\n",
       "    }\n",
       "\n",
       "    .dataframe thead th {\n",
       "        text-align: right;\n",
       "    }\n",
       "</style>\n",
       "<table border=\"1\" class=\"dataframe\">\n",
       "  <thead>\n",
       "    <tr style=\"text-align: right;\">\n",
       "      <th></th>\n",
       "      <th>nome</th>\n",
       "      <th>idade</th>\n",
       "      <th>rua</th>\n",
       "      <th>cidade</th>\n",
       "    </tr>\n",
       "  </thead>\n",
       "  <tbody>\n",
       "    <tr>\n",
       "      <th>0</th>\n",
       "      <td>João</td>\n",
       "      <td>25</td>\n",
       "      <td>Rua A</td>\n",
       "      <td>São Paulo</td>\n",
       "    </tr>\n",
       "    <tr>\n",
       "      <th>1</th>\n",
       "      <td>Maria</td>\n",
       "      <td>30</td>\n",
       "      <td>Rua B</td>\n",
       "      <td>Rio de Janeiro</td>\n",
       "    </tr>\n",
       "  </tbody>\n",
       "</table>\n",
       "</div>"
      ],
      "text/plain": [
       "    nome  idade    rua          cidade\n",
       "0   João     25  Rua A       São Paulo\n",
       "1  Maria     30  Rua B  Rio de Janeiro"
      ]
     },
     "execution_count": 18,
     "metadata": {},
     "output_type": "execute_result"
    }
   ],
   "source": [
    "dataframe_list_map = pd.DataFrame()\n",
    "dataframe_list_map['nome'] = list(map(lambda x: x['nome'], dados['pessoas']))\n",
    "dataframe_list_map['idade'] = list(map(lambda x: x['idade'], dados['pessoas']))\n",
    "dataframe_list_map['rua'] = list(map(lambda x: x['endereço']['rua'], dados['pessoas']))\n",
    "dataframe_list_map['cidade'] = list(map(lambda x: x['endereço']['cidade'], dados['pessoas']))\n",
    "dataframe_list_map"
   ]
  },
  {
   "cell_type": "markdown",
   "metadata": {},
   "source": [
    "### 4.1 - Estruturando dados com Python\n",
    " enumerate() - retorna um objeto enumerado. Ele pega uma lista (ou outro objeto iterável) como argumento e retorna um objeto enumerado."
   ]
  },
  {
   "cell_type": "code",
   "execution_count": 24,
   "metadata": {},
   "outputs": [
    {
     "name": "stdout",
     "output_type": "stream",
     "text": [
      "0 João 25 São Paulo Rua A\n",
      "1 Maria 30 Rio de Janeiro Rua B\n"
     ]
    }
   ],
   "source": [
    "for i, pessoa in enumerate(dados_dict['pessoas']):\n",
    "    print(i, pessoa['nome'], pessoa['idade'], pessoa['endereço']['cidade'], pessoa['endereço']['rua'])"
   ]
  },
  {
   "cell_type": "code",
   "execution_count": 25,
   "metadata": {},
   "outputs": [
    {
     "data": {
      "text/html": [
       "<div>\n",
       "<style scoped>\n",
       "    .dataframe tbody tr th:only-of-type {\n",
       "        vertical-align: middle;\n",
       "    }\n",
       "\n",
       "    .dataframe tbody tr th {\n",
       "        vertical-align: top;\n",
       "    }\n",
       "\n",
       "    .dataframe thead th {\n",
       "        text-align: right;\n",
       "    }\n",
       "</style>\n",
       "<table border=\"1\" class=\"dataframe\">\n",
       "  <thead>\n",
       "    <tr style=\"text-align: right;\">\n",
       "      <th></th>\n",
       "      <th>nome</th>\n",
       "      <th>idade</th>\n",
       "      <th>rua</th>\n",
       "      <th>cidade</th>\n",
       "    </tr>\n",
       "  </thead>\n",
       "  <tbody>\n",
       "    <tr>\n",
       "      <th>0</th>\n",
       "      <td>João</td>\n",
       "      <td>25</td>\n",
       "      <td>Rua A</td>\n",
       "      <td>São Paulo</td>\n",
       "    </tr>\n",
       "    <tr>\n",
       "      <th>1</th>\n",
       "      <td>Maria</td>\n",
       "      <td>30</td>\n",
       "      <td>Rua B</td>\n",
       "      <td>Rio de Janeiro</td>\n",
       "    </tr>\n",
       "  </tbody>\n",
       "</table>\n",
       "</div>"
      ],
      "text/plain": [
       "    nome  idade    rua          cidade\n",
       "0   João     25  Rua A       São Paulo\n",
       "1  Maria     30  Rua B  Rio de Janeiro"
      ]
     },
     "execution_count": 25,
     "metadata": {},
     "output_type": "execute_result"
    }
   ],
   "source": [
    "dataframe_list_comprehension = pd.DataFrame([\n",
    "    {\n",
    "        'nome': pessoa['nome'],\n",
    "        'idade': pessoa['idade'],\n",
    "        'rua': pessoa['endereço']['rua'],\n",
    "        'cidade': pessoa['endereço']['cidade']\n",
    "    }\n",
    "    for i, pessoa in enumerate(dados['pessoas'])\n",
    "]);\n",
    "\n",
    "dataframe_list_comprehension\n"
   ]
  },
  {
   "cell_type": "markdown",
   "metadata": {},
   "source": [
    "# 5 - Classes em Python"
   ]
  },
  {
   "cell_type": "code",
   "execution_count": 26,
   "metadata": {},
   "outputs": [
    {
     "name": "stdout",
     "output_type": "stream",
     "text": [
      "João tem 25 anos e mora na Rua A em São Paulo\n"
     ]
    }
   ],
   "source": [
    "class Pessoa:\n",
    "    #Atributo de classe\n",
    "    especie = 'Humana'\n",
    "    pessoas = []\n",
    "\n",
    "    #Método construtor\n",
    "    def __init__(self, nome, idade, rua, cidade):\n",
    "        self.nome = nome\n",
    "        self.idade = idade\n",
    "        self.rua = rua\n",
    "        self.cidade = cidade\n",
    "        self.pessoas.append(self)\n",
    "    \n",
    "    #Método de instância\n",
    "    def __str__(self):\n",
    "        return f'{self.nome} tem {self.idade} anos e mora na {self.rua} em {self.cidade}'\n",
    "\n",
    "\n",
    "\n",
    "objeto_criado = Pessoa('João', 25, 'Rua A', 'São Paulo')\n",
    "\n",
    "\n",
    "# Imprimir o objeto com o método de instância __str__\n",
    "print(objeto_criado)\n"
   ]
  },
  {
   "cell_type": "markdown",
   "metadata": {},
   "source": [
    "### 5.1 - Atributos de classe e instância"
   ]
  },
  {
   "cell_type": "markdown",
   "metadata": {},
   "source": [
    "Atributos de classe são atributos que são definidos diretamente na classe. Atributos de instância são atributos que são definidos dentro do método construtor.\n",
    "Por isto, atributos de classe são os mesmos para todas as instâncias da classe, enquanto que atributos de instância são únicos para cada instância.\n",
    "Através do método `__init__` é possível definir os atributos de instância de uma classe.\n",
    "Porem quando instanciar uma classe, é possível passar argumentos para o método construtor, que serão utilizados para definir os atributos de instância da classe."
   ]
  },
  {
   "cell_type": "code",
   "execution_count": 28,
   "metadata": {},
   "outputs": [
    {
     "data": {
      "text/plain": [
       "'Humana'"
      ]
     },
     "execution_count": 28,
     "metadata": {},
     "output_type": "execute_result"
    }
   ],
   "source": [
    "Pessoa.especie"
   ]
  },
  {
   "cell_type": "code",
   "execution_count": 27,
   "metadata": {},
   "outputs": [
    {
     "data": {
      "text/plain": [
       "'Humana'"
      ]
     },
     "execution_count": 27,
     "metadata": {},
     "output_type": "execute_result"
    }
   ],
   "source": [
    "objeto_criado.especie"
   ]
  },
  {
   "cell_type": "markdown",
   "metadata": {},
   "source": [
    "### 5.2 - Entendendo instancias e valores de objetos em Python para Engenheiros de Dados"
   ]
  },
  {
   "cell_type": "markdown",
   "metadata": {},
   "source": [
    "Primeiro fator como visto anteriormente, é que atributos fora do método construtor são atributos de classe, e não de instância. Portanto, eles não vão aparecer quando você chamar o método `__dict__`  ou instanciar um objeto. Atributos de classe são atributos que são definidos diretamente na classe. Atributos de instância são atributos que são definidos dentro do método construtor. Por isto, atributos de classe são os mesmos para todas as instâncias da classe, enquanto que atributos de instância são únicos para cada instância. Através do método `__init__` é possível definir os atributos de instância de uma classe. Porem quando instanciar uma classe, é possível passar argumentos para o método construtor, que serão utilizados para definir os atributos de instância da classe."
   ]
  },
  {
   "cell_type": "code",
   "execution_count": 29,
   "metadata": {},
   "outputs": [
    {
     "data": {
      "text/plain": [
       "{'nome': 'João', 'idade': 25, 'rua': 'Rua A', 'cidade': 'São Paulo'}"
      ]
     },
     "execution_count": 29,
     "metadata": {},
     "output_type": "execute_result"
    }
   ],
   "source": [
    "vars(objeto_criado)"
   ]
  },
  {
   "cell_type": "code",
   "execution_count": 32,
   "metadata": {},
   "outputs": [
    {
     "data": {
      "text/plain": [
       "{'nome': 'João', 'idade': 25, 'rua': 'Rua A', 'cidade': 'São Paulo'}"
      ]
     },
     "execution_count": 32,
     "metadata": {},
     "output_type": "execute_result"
    }
   ],
   "source": [
    "objeto_criado.__dict__"
   ]
  },
  {
   "cell_type": "code",
   "execution_count": 31,
   "metadata": {},
   "outputs": [
    {
     "data": {
      "text/plain": [
       "'João'"
      ]
     },
     "execution_count": 31,
     "metadata": {},
     "output_type": "execute_result"
    }
   ],
   "source": [
    "Pessoa.pessoas[0].nome"
   ]
  },
  {
   "cell_type": "markdown",
   "metadata": {},
   "source": [
    "# 6 - Estruturando dataframe com classes em Python a importância da programação orientada a objetos para Engenheiros de Dados"
   ]
  },
  {
   "cell_type": "markdown",
   "metadata": {},
   "source": [
    "Apos conter a classe criada.\n",
    "Podemos trazer todos objetos para dentro do dataframe de forma mais simples e organizada."
   ]
  },
  {
   "cell_type": "code",
   "execution_count": 41,
   "metadata": {},
   "outputs": [
    {
     "data": {
      "text/html": [
       "<div>\n",
       "<style scoped>\n",
       "    .dataframe tbody tr th:only-of-type {\n",
       "        vertical-align: middle;\n",
       "    }\n",
       "\n",
       "    .dataframe tbody tr th {\n",
       "        vertical-align: top;\n",
       "    }\n",
       "\n",
       "    .dataframe thead th {\n",
       "        text-align: right;\n",
       "    }\n",
       "</style>\n",
       "<table border=\"1\" class=\"dataframe\">\n",
       "  <thead>\n",
       "    <tr style=\"text-align: right;\">\n",
       "      <th></th>\n",
       "      <th>nome</th>\n",
       "      <th>idade</th>\n",
       "      <th>rua</th>\n",
       "      <th>cidade</th>\n",
       "    </tr>\n",
       "  </thead>\n",
       "  <tbody>\n",
       "    <tr>\n",
       "      <th>0</th>\n",
       "      <td>João</td>\n",
       "      <td>25</td>\n",
       "      <td>Rua A</td>\n",
       "      <td>São Paulo</td>\n",
       "    </tr>\n",
       "  </tbody>\n",
       "</table>\n",
       "</div>"
      ],
      "text/plain": [
       "   nome  idade    rua     cidade\n",
       "0  João     25  Rua A  São Paulo"
      ]
     },
     "execution_count": 41,
     "metadata": {},
     "output_type": "execute_result"
    }
   ],
   "source": [
    "object_info_dataframe = pd.DataFrame([\n",
    "    vars(pessoa)\n",
    "    for pessoa in Pessoa.pessoas\n",
    "]);object_info_dataframe\n"
   ]
  }
 ],
 "metadata": {
  "kernelspec": {
   "display_name": "base",
   "language": "python",
   "name": "python3"
  },
  "language_info": {
   "codemirror_mode": {
    "name": "ipython",
    "version": 3
   },
   "file_extension": ".py",
   "mimetype": "text/x-python",
   "name": "python",
   "nbconvert_exporter": "python",
   "pygments_lexer": "ipython3",
   "version": "3.11.3"
  }
 },
 "nbformat": 4,
 "nbformat_minor": 2
}
